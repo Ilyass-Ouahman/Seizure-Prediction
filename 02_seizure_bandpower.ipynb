{
 "cells": [
  {
   "cell_type": "markdown",
   "id": "9b02f448",
   "metadata": {},
   "source": [
    "# Seizure Bandpower"
   ]
  },
  {
   "cell_type": "markdown",
   "id": "ae35064f",
   "metadata": {},
   "source": [
    "Patient chb_01 has 6 seizures recorded in this dataset. By observing 10s snapshots before, during and after the seizure, we notice a change in the pattern of dominant spectral band."
   ]
  },
  {
   "cell_type": "markdown",
   "id": "7b1faade",
   "metadata": {},
   "source": [
    "# Patient 1"
   ]
  },
  {
   "cell_type": "markdown",
   "id": "61ec6b61",
   "metadata": {},
   "source": [
    "We will explore how many seizures patient 1 have and their duration. We also observe the visual differences in the signal."
   ]
  },
  {
   "cell_type": "code",
   "execution_count": 1,
   "id": "74cf6fc0",
   "metadata": {},
   "outputs": [
    {
     "ename": "ImportError",
     "evalue": "dlopen(/opt/anaconda3/envs/ENSAM-Rabat_Seizure_Prediction/lib/python3.11/site-packages/scipy/linalg/_fblas.cpython-311-darwin.so, 0x0002): Library not loaded: @rpath/liblapack.3.dylib\n  Referenced from: <1BE00856-BEE3-3EDA-8993-1D85FDD2A0FC> /opt/anaconda3/envs/ENSAM-Rabat_Seizure_Prediction/lib/python3.11/site-packages/scipy/linalg/_fblas.cpython-311-darwin.so\n  Reason: tried: '/opt/anaconda3/envs/ENSAM-Rabat_Seizure_Prediction/lib/python3.11/site-packages/scipy/linalg/liblapack.3.dylib' (no such file), '/opt/anaconda3/envs/ENSAM-Rabat_Seizure_Prediction/lib/python3.11/site-packages/scipy/linalg/../../../../liblapack.3.dylib' (no such file), '/opt/anaconda3/envs/ENSAM-Rabat_Seizure_Prediction/lib/python3.11/site-packages/scipy/linalg/liblapack.3.dylib' (no such file), '/opt/anaconda3/envs/ENSAM-Rabat_Seizure_Prediction/lib/python3.11/site-packages/scipy/linalg/../../../../liblapack.3.dylib' (no such file), '/opt/anaconda3/envs/ENSAM-Rabat_Seizure_Prediction/bin/../lib/liblapack.3.dylib' (no such file), '/opt/anaconda3/envs/ENSAM-Rabat_Seizure_Prediction/bin/../lib/liblapack.3.dylib' (no such file), '/usr/local/lib/liblapack.3.dylib' (no such file), '/usr/lib/liblapack.3.dylib' (no such file, not in dyld cache)",
     "output_type": "error",
     "traceback": [
      "\u001b[0;31m---------------------------------------------------------------------------\u001b[0m",
      "\u001b[0;31mImportError\u001b[0m                               Traceback (most recent call last)",
      "Cell \u001b[0;32mIn[1], line 4\u001b[0m\n\u001b[1;32m      2\u001b[0m \u001b[38;5;28;01mimport\u001b[39;00m\u001b[38;5;250m \u001b[39m\u001b[38;5;21;01mre\u001b[39;00m\n\u001b[1;32m      3\u001b[0m \u001b[38;5;28;01mimport\u001b[39;00m\u001b[38;5;250m \u001b[39m\u001b[38;5;21;01mmne\u001b[39;00m\n\u001b[0;32m----> 4\u001b[0m \u001b[38;5;28;01mimport\u001b[39;00m\u001b[38;5;250m \u001b[39m\u001b[38;5;21;01myasa\u001b[39;00m\n\u001b[1;32m      5\u001b[0m \u001b[38;5;28;01mimport\u001b[39;00m\u001b[38;5;250m \u001b[39m\u001b[38;5;21;01mnumpy\u001b[39;00m\u001b[38;5;250m \u001b[39m\u001b[38;5;28;01mas\u001b[39;00m\u001b[38;5;250m \u001b[39m\u001b[38;5;21;01mnp\u001b[39;00m\n\u001b[1;32m      6\u001b[0m \u001b[38;5;28;01mimport\u001b[39;00m\u001b[38;5;250m \u001b[39m\u001b[38;5;21;01mmatplotlib\u001b[39;00m\u001b[38;5;21;01m.\u001b[39;00m\u001b[38;5;21;01mpyplot\u001b[39;00m\u001b[38;5;250m \u001b[39m\u001b[38;5;28;01mas\u001b[39;00m\u001b[38;5;250m \u001b[39m\u001b[38;5;21;01mplt\u001b[39;00m\n",
      "File \u001b[0;32m/opt/anaconda3/envs/ENSAM-Rabat_Seizure_Prediction/lib/python3.11/site-packages/yasa/__init__.py:2\u001b[0m\n\u001b[1;32m      1\u001b[0m \u001b[38;5;28;01mimport\u001b[39;00m\u001b[38;5;250m \u001b[39m\u001b[38;5;21;01mlogging\u001b[39;00m\n\u001b[0;32m----> 2\u001b[0m \u001b[38;5;28;01mfrom\u001b[39;00m\u001b[38;5;250m \u001b[39m\u001b[38;5;21;01m.\u001b[39;00m\u001b[38;5;21;01mdetection\u001b[39;00m\u001b[38;5;250m \u001b[39m\u001b[38;5;28;01mimport\u001b[39;00m \u001b[38;5;241m*\u001b[39m\n\u001b[1;32m      3\u001b[0m \u001b[38;5;28;01mfrom\u001b[39;00m\u001b[38;5;250m \u001b[39m\u001b[38;5;21;01m.\u001b[39;00m\u001b[38;5;21;01mevaluation\u001b[39;00m\u001b[38;5;250m \u001b[39m\u001b[38;5;28;01mimport\u001b[39;00m \u001b[38;5;241m*\u001b[39m\n\u001b[1;32m      4\u001b[0m \u001b[38;5;28;01mfrom\u001b[39;00m\u001b[38;5;250m \u001b[39m\u001b[38;5;21;01m.\u001b[39;00m\u001b[38;5;21;01mfeatures\u001b[39;00m\u001b[38;5;250m \u001b[39m\u001b[38;5;28;01mimport\u001b[39;00m \u001b[38;5;241m*\u001b[39m\n",
      "File \u001b[0;32m/opt/anaconda3/envs/ENSAM-Rabat_Seizure_Prediction/lib/python3.11/site-packages/yasa/detection.py:14\u001b[0m\n\u001b[1;32m     12\u001b[0m \u001b[38;5;28;01mimport\u001b[39;00m\u001b[38;5;250m \u001b[39m\u001b[38;5;21;01mnumpy\u001b[39;00m\u001b[38;5;250m \u001b[39m\u001b[38;5;28;01mas\u001b[39;00m\u001b[38;5;250m \u001b[39m\u001b[38;5;21;01mnp\u001b[39;00m\n\u001b[1;32m     13\u001b[0m \u001b[38;5;28;01mimport\u001b[39;00m\u001b[38;5;250m \u001b[39m\u001b[38;5;21;01mpandas\u001b[39;00m\u001b[38;5;250m \u001b[39m\u001b[38;5;28;01mas\u001b[39;00m\u001b[38;5;250m \u001b[39m\u001b[38;5;21;01mpd\u001b[39;00m\n\u001b[0;32m---> 14\u001b[0m \u001b[38;5;28;01mfrom\u001b[39;00m\u001b[38;5;250m \u001b[39m\u001b[38;5;21;01mscipy\u001b[39;00m\u001b[38;5;250m \u001b[39m\u001b[38;5;28;01mimport\u001b[39;00m signal\n\u001b[1;32m     15\u001b[0m \u001b[38;5;28;01mfrom\u001b[39;00m\u001b[38;5;250m \u001b[39m\u001b[38;5;21;01mmne\u001b[39;00m\u001b[38;5;21;01m.\u001b[39;00m\u001b[38;5;21;01mfilter\u001b[39;00m\u001b[38;5;250m \u001b[39m\u001b[38;5;28;01mimport\u001b[39;00m filter_data\n\u001b[1;32m     16\u001b[0m \u001b[38;5;28;01mfrom\u001b[39;00m\u001b[38;5;250m \u001b[39m\u001b[38;5;21;01mcollections\u001b[39;00m\u001b[38;5;250m \u001b[39m\u001b[38;5;28;01mimport\u001b[39;00m OrderedDict\n",
      "File \u001b[0;32m/opt/anaconda3/envs/ENSAM-Rabat_Seizure_Prediction/lib/python3.11/site-packages/scipy/__init__.py:189\u001b[0m, in \u001b[0;36m__getattr__\u001b[0;34m(name)\u001b[0m\n\u001b[1;32m    187\u001b[0m \u001b[38;5;28;01mdef\u001b[39;00m\u001b[38;5;250m \u001b[39m\u001b[38;5;21m__getattr__\u001b[39m(name):\n\u001b[1;32m    188\u001b[0m     \u001b[38;5;28;01mif\u001b[39;00m name \u001b[38;5;129;01min\u001b[39;00m submodules:\n\u001b[0;32m--> 189\u001b[0m         \u001b[38;5;28;01mreturn\u001b[39;00m \u001b[43m_importlib\u001b[49m\u001b[38;5;241;43m.\u001b[39;49m\u001b[43mimport_module\u001b[49m\u001b[43m(\u001b[49m\u001b[38;5;124;43mf\u001b[39;49m\u001b[38;5;124;43m'\u001b[39;49m\u001b[38;5;124;43mscipy.\u001b[39;49m\u001b[38;5;132;43;01m{\u001b[39;49;00m\u001b[43mname\u001b[49m\u001b[38;5;132;43;01m}\u001b[39;49;00m\u001b[38;5;124;43m'\u001b[39;49m\u001b[43m)\u001b[49m\n\u001b[1;32m    190\u001b[0m     \u001b[38;5;28;01melse\u001b[39;00m:\n\u001b[1;32m    191\u001b[0m         \u001b[38;5;28;01mtry\u001b[39;00m:\n",
      "File \u001b[0;32m/opt/anaconda3/envs/ENSAM-Rabat_Seizure_Prediction/lib/python3.11/importlib/__init__.py:126\u001b[0m, in \u001b[0;36mimport_module\u001b[0;34m(name, package)\u001b[0m\n\u001b[1;32m    124\u001b[0m             \u001b[38;5;28;01mbreak\u001b[39;00m\n\u001b[1;32m    125\u001b[0m         level \u001b[38;5;241m+\u001b[39m\u001b[38;5;241m=\u001b[39m \u001b[38;5;241m1\u001b[39m\n\u001b[0;32m--> 126\u001b[0m \u001b[38;5;28;01mreturn\u001b[39;00m \u001b[43m_bootstrap\u001b[49m\u001b[38;5;241;43m.\u001b[39;49m\u001b[43m_gcd_import\u001b[49m\u001b[43m(\u001b[49m\u001b[43mname\u001b[49m\u001b[43m[\u001b[49m\u001b[43mlevel\u001b[49m\u001b[43m:\u001b[49m\u001b[43m]\u001b[49m\u001b[43m,\u001b[49m\u001b[43m \u001b[49m\u001b[43mpackage\u001b[49m\u001b[43m,\u001b[49m\u001b[43m \u001b[49m\u001b[43mlevel\u001b[49m\u001b[43m)\u001b[49m\n",
      "File \u001b[0;32m/opt/anaconda3/envs/ENSAM-Rabat_Seizure_Prediction/lib/python3.11/site-packages/scipy/signal/__init__.py:311\u001b[0m\n\u001b[1;32m      1\u001b[0m \u001b[38;5;124;03m\"\"\"\u001b[39;00m\n\u001b[1;32m      2\u001b[0m \u001b[38;5;124;03m=======================================\u001b[39;00m\n\u001b[1;32m      3\u001b[0m \u001b[38;5;124;03mSignal processing (:mod:`scipy.signal`)\u001b[39;00m\n\u001b[0;32m   (...)\u001b[0m\n\u001b[1;32m    307\u001b[0m \n\u001b[1;32m    308\u001b[0m \u001b[38;5;124;03m\"\"\"\u001b[39;00m\n\u001b[1;32m    309\u001b[0m \u001b[38;5;28;01mimport\u001b[39;00m\u001b[38;5;250m \u001b[39m\u001b[38;5;21;01mwarnings\u001b[39;00m\n\u001b[0;32m--> 311\u001b[0m \u001b[38;5;28;01mfrom\u001b[39;00m\u001b[38;5;250m \u001b[39m\u001b[38;5;21;01m.\u001b[39;00m\u001b[38;5;250m \u001b[39m\u001b[38;5;28;01mimport\u001b[39;00m _sigtools, windows\n\u001b[1;32m    312\u001b[0m \u001b[38;5;28;01mfrom\u001b[39;00m\u001b[38;5;250m \u001b[39m\u001b[38;5;21;01m.\u001b[39;00m\u001b[38;5;21;01m_waveforms\u001b[39;00m\u001b[38;5;250m \u001b[39m\u001b[38;5;28;01mimport\u001b[39;00m \u001b[38;5;241m*\u001b[39m\n\u001b[1;32m    313\u001b[0m \u001b[38;5;28;01mfrom\u001b[39;00m\u001b[38;5;250m \u001b[39m\u001b[38;5;21;01m.\u001b[39;00m\u001b[38;5;21;01m_max_len_seq\u001b[39;00m\u001b[38;5;250m \u001b[39m\u001b[38;5;28;01mimport\u001b[39;00m max_len_seq\n",
      "File \u001b[0;32m/opt/anaconda3/envs/ENSAM-Rabat_Seizure_Prediction/lib/python3.11/site-packages/scipy/signal/windows/__init__.py:42\u001b[0m\n\u001b[1;32m      1\u001b[0m \u001b[38;5;124;03m\"\"\"\u001b[39;00m\n\u001b[1;32m      2\u001b[0m \u001b[38;5;124;03mWindow functions (:mod:`scipy.signal.windows`)\u001b[39;00m\n\u001b[1;32m      3\u001b[0m \u001b[38;5;124;03m==============================================\u001b[39;00m\n\u001b[0;32m   (...)\u001b[0m\n\u001b[1;32m     39\u001b[0m \n\u001b[1;32m     40\u001b[0m \u001b[38;5;124;03m\"\"\"\u001b[39;00m\n\u001b[0;32m---> 42\u001b[0m \u001b[38;5;28;01mfrom\u001b[39;00m\u001b[38;5;250m \u001b[39m\u001b[38;5;21;01m.\u001b[39;00m\u001b[38;5;21;01m_windows\u001b[39;00m\u001b[38;5;250m \u001b[39m\u001b[38;5;28;01mimport\u001b[39;00m \u001b[38;5;241m*\u001b[39m\n\u001b[1;32m     44\u001b[0m \u001b[38;5;66;03m# Deprecated namespaces, to be removed in v2.0.0\u001b[39;00m\n\u001b[1;32m     45\u001b[0m \u001b[38;5;28;01mfrom\u001b[39;00m\u001b[38;5;250m \u001b[39m\u001b[38;5;21;01m.\u001b[39;00m\u001b[38;5;250m \u001b[39m\u001b[38;5;28;01mimport\u001b[39;00m windows\n",
      "File \u001b[0;32m/opt/anaconda3/envs/ENSAM-Rabat_Seizure_Prediction/lib/python3.11/site-packages/scipy/signal/windows/_windows.py:7\u001b[0m\n\u001b[1;32m      4\u001b[0m \u001b[38;5;28;01mimport\u001b[39;00m\u001b[38;5;250m \u001b[39m\u001b[38;5;21;01mwarnings\u001b[39;00m\n\u001b[1;32m      6\u001b[0m \u001b[38;5;28;01mimport\u001b[39;00m\u001b[38;5;250m \u001b[39m\u001b[38;5;21;01mnumpy\u001b[39;00m\u001b[38;5;250m \u001b[39m\u001b[38;5;28;01mas\u001b[39;00m\u001b[38;5;250m \u001b[39m\u001b[38;5;21;01mnp\u001b[39;00m\n\u001b[0;32m----> 7\u001b[0m \u001b[38;5;28;01mfrom\u001b[39;00m\u001b[38;5;250m \u001b[39m\u001b[38;5;21;01mscipy\u001b[39;00m\u001b[38;5;250m \u001b[39m\u001b[38;5;28;01mimport\u001b[39;00m linalg, special, fft \u001b[38;5;28;01mas\u001b[39;00m sp_fft\n\u001b[1;32m      9\u001b[0m __all__ \u001b[38;5;241m=\u001b[39m [\u001b[38;5;124m'\u001b[39m\u001b[38;5;124mboxcar\u001b[39m\u001b[38;5;124m'\u001b[39m, \u001b[38;5;124m'\u001b[39m\u001b[38;5;124mtriang\u001b[39m\u001b[38;5;124m'\u001b[39m, \u001b[38;5;124m'\u001b[39m\u001b[38;5;124mparzen\u001b[39m\u001b[38;5;124m'\u001b[39m, \u001b[38;5;124m'\u001b[39m\u001b[38;5;124mbohman\u001b[39m\u001b[38;5;124m'\u001b[39m, \u001b[38;5;124m'\u001b[39m\u001b[38;5;124mblackman\u001b[39m\u001b[38;5;124m'\u001b[39m, \u001b[38;5;124m'\u001b[39m\u001b[38;5;124mnuttall\u001b[39m\u001b[38;5;124m'\u001b[39m,\n\u001b[1;32m     10\u001b[0m            \u001b[38;5;124m'\u001b[39m\u001b[38;5;124mblackmanharris\u001b[39m\u001b[38;5;124m'\u001b[39m, \u001b[38;5;124m'\u001b[39m\u001b[38;5;124mflattop\u001b[39m\u001b[38;5;124m'\u001b[39m, \u001b[38;5;124m'\u001b[39m\u001b[38;5;124mbartlett\u001b[39m\u001b[38;5;124m'\u001b[39m, \u001b[38;5;124m'\u001b[39m\u001b[38;5;124mbarthann\u001b[39m\u001b[38;5;124m'\u001b[39m,\n\u001b[1;32m     11\u001b[0m            \u001b[38;5;124m'\u001b[39m\u001b[38;5;124mhamming\u001b[39m\u001b[38;5;124m'\u001b[39m, \u001b[38;5;124m'\u001b[39m\u001b[38;5;124mkaiser\u001b[39m\u001b[38;5;124m'\u001b[39m, \u001b[38;5;124m'\u001b[39m\u001b[38;5;124mkaiser_bessel_derived\u001b[39m\u001b[38;5;124m'\u001b[39m, \u001b[38;5;124m'\u001b[39m\u001b[38;5;124mgaussian\u001b[39m\u001b[38;5;124m'\u001b[39m,\n\u001b[1;32m     12\u001b[0m            \u001b[38;5;124m'\u001b[39m\u001b[38;5;124mgeneral_cosine\u001b[39m\u001b[38;5;124m'\u001b[39m, \u001b[38;5;124m'\u001b[39m\u001b[38;5;124mgeneral_gaussian\u001b[39m\u001b[38;5;124m'\u001b[39m, \u001b[38;5;124m'\u001b[39m\u001b[38;5;124mgeneral_hamming\u001b[39m\u001b[38;5;124m'\u001b[39m,\n\u001b[1;32m     13\u001b[0m            \u001b[38;5;124m'\u001b[39m\u001b[38;5;124mchebwin\u001b[39m\u001b[38;5;124m'\u001b[39m, \u001b[38;5;124m'\u001b[39m\u001b[38;5;124mcosine\u001b[39m\u001b[38;5;124m'\u001b[39m, \u001b[38;5;124m'\u001b[39m\u001b[38;5;124mhann\u001b[39m\u001b[38;5;124m'\u001b[39m, \u001b[38;5;124m'\u001b[39m\u001b[38;5;124mexponential\u001b[39m\u001b[38;5;124m'\u001b[39m, \u001b[38;5;124m'\u001b[39m\u001b[38;5;124mtukey\u001b[39m\u001b[38;5;124m'\u001b[39m, \u001b[38;5;124m'\u001b[39m\u001b[38;5;124mtaylor\u001b[39m\u001b[38;5;124m'\u001b[39m,\n\u001b[1;32m     14\u001b[0m            \u001b[38;5;124m'\u001b[39m\u001b[38;5;124mdpss\u001b[39m\u001b[38;5;124m'\u001b[39m, \u001b[38;5;124m'\u001b[39m\u001b[38;5;124mget_window\u001b[39m\u001b[38;5;124m'\u001b[39m, \u001b[38;5;124m'\u001b[39m\u001b[38;5;124mlanczos\u001b[39m\u001b[38;5;124m'\u001b[39m]\n\u001b[1;32m     17\u001b[0m \u001b[38;5;28;01mdef\u001b[39;00m\u001b[38;5;250m \u001b[39m\u001b[38;5;21m_len_guards\u001b[39m(M):\n",
      "File \u001b[0;32m/opt/anaconda3/envs/ENSAM-Rabat_Seizure_Prediction/lib/python3.11/site-packages/scipy/__init__.py:189\u001b[0m, in \u001b[0;36m__getattr__\u001b[0;34m(name)\u001b[0m\n\u001b[1;32m    187\u001b[0m \u001b[38;5;28;01mdef\u001b[39;00m\u001b[38;5;250m \u001b[39m\u001b[38;5;21m__getattr__\u001b[39m(name):\n\u001b[1;32m    188\u001b[0m     \u001b[38;5;28;01mif\u001b[39;00m name \u001b[38;5;129;01min\u001b[39;00m submodules:\n\u001b[0;32m--> 189\u001b[0m         \u001b[38;5;28;01mreturn\u001b[39;00m \u001b[43m_importlib\u001b[49m\u001b[38;5;241;43m.\u001b[39;49m\u001b[43mimport_module\u001b[49m\u001b[43m(\u001b[49m\u001b[38;5;124;43mf\u001b[39;49m\u001b[38;5;124;43m'\u001b[39;49m\u001b[38;5;124;43mscipy.\u001b[39;49m\u001b[38;5;132;43;01m{\u001b[39;49;00m\u001b[43mname\u001b[49m\u001b[38;5;132;43;01m}\u001b[39;49;00m\u001b[38;5;124;43m'\u001b[39;49m\u001b[43m)\u001b[49m\n\u001b[1;32m    190\u001b[0m     \u001b[38;5;28;01melse\u001b[39;00m:\n\u001b[1;32m    191\u001b[0m         \u001b[38;5;28;01mtry\u001b[39;00m:\n",
      "File \u001b[0;32m/opt/anaconda3/envs/ENSAM-Rabat_Seizure_Prediction/lib/python3.11/importlib/__init__.py:126\u001b[0m, in \u001b[0;36mimport_module\u001b[0;34m(name, package)\u001b[0m\n\u001b[1;32m    124\u001b[0m             \u001b[38;5;28;01mbreak\u001b[39;00m\n\u001b[1;32m    125\u001b[0m         level \u001b[38;5;241m+\u001b[39m\u001b[38;5;241m=\u001b[39m \u001b[38;5;241m1\u001b[39m\n\u001b[0;32m--> 126\u001b[0m \u001b[38;5;28;01mreturn\u001b[39;00m \u001b[43m_bootstrap\u001b[49m\u001b[38;5;241;43m.\u001b[39;49m\u001b[43m_gcd_import\u001b[49m\u001b[43m(\u001b[49m\u001b[43mname\u001b[49m\u001b[43m[\u001b[49m\u001b[43mlevel\u001b[49m\u001b[43m:\u001b[49m\u001b[43m]\u001b[49m\u001b[43m,\u001b[49m\u001b[43m \u001b[49m\u001b[43mpackage\u001b[49m\u001b[43m,\u001b[49m\u001b[43m \u001b[49m\u001b[43mlevel\u001b[49m\u001b[43m)\u001b[49m\n",
      "File \u001b[0;32m/opt/anaconda3/envs/ENSAM-Rabat_Seizure_Prediction/lib/python3.11/site-packages/scipy/linalg/__init__.py:206\u001b[0m\n\u001b[1;32m      1\u001b[0m \u001b[38;5;124;03m\"\"\"\u001b[39;00m\n\u001b[1;32m      2\u001b[0m \u001b[38;5;124;03m====================================\u001b[39;00m\n\u001b[1;32m      3\u001b[0m \u001b[38;5;124;03mLinear algebra (:mod:`scipy.linalg`)\u001b[39;00m\n\u001b[0;32m   (...)\u001b[0m\n\u001b[1;32m    203\u001b[0m \n\u001b[1;32m    204\u001b[0m \u001b[38;5;124;03m\"\"\"\u001b[39;00m  \u001b[38;5;66;03m# noqa: E501\u001b[39;00m\n\u001b[0;32m--> 206\u001b[0m \u001b[38;5;28;01mfrom\u001b[39;00m\u001b[38;5;250m \u001b[39m\u001b[38;5;21;01m.\u001b[39;00m\u001b[38;5;21;01m_misc\u001b[39;00m\u001b[38;5;250m \u001b[39m\u001b[38;5;28;01mimport\u001b[39;00m \u001b[38;5;241m*\u001b[39m\n\u001b[1;32m    207\u001b[0m \u001b[38;5;28;01mfrom\u001b[39;00m\u001b[38;5;250m \u001b[39m\u001b[38;5;21;01m.\u001b[39;00m\u001b[38;5;21;01m_cythonized_array_utils\u001b[39;00m\u001b[38;5;250m \u001b[39m\u001b[38;5;28;01mimport\u001b[39;00m \u001b[38;5;241m*\u001b[39m\n\u001b[1;32m    208\u001b[0m \u001b[38;5;28;01mfrom\u001b[39;00m\u001b[38;5;250m \u001b[39m\u001b[38;5;21;01m.\u001b[39;00m\u001b[38;5;21;01m_basic\u001b[39;00m\u001b[38;5;250m \u001b[39m\u001b[38;5;28;01mimport\u001b[39;00m \u001b[38;5;241m*\u001b[39m\n",
      "File \u001b[0;32m/opt/anaconda3/envs/ENSAM-Rabat_Seizure_Prediction/lib/python3.11/site-packages/scipy/linalg/_misc.py:3\u001b[0m\n\u001b[1;32m      1\u001b[0m \u001b[38;5;28;01mimport\u001b[39;00m\u001b[38;5;250m \u001b[39m\u001b[38;5;21;01mnumpy\u001b[39;00m\u001b[38;5;250m \u001b[39m\u001b[38;5;28;01mas\u001b[39;00m\u001b[38;5;250m \u001b[39m\u001b[38;5;21;01mnp\u001b[39;00m\n\u001b[1;32m      2\u001b[0m \u001b[38;5;28;01mfrom\u001b[39;00m\u001b[38;5;250m \u001b[39m\u001b[38;5;21;01mnumpy\u001b[39;00m\u001b[38;5;21;01m.\u001b[39;00m\u001b[38;5;21;01mlinalg\u001b[39;00m\u001b[38;5;250m \u001b[39m\u001b[38;5;28;01mimport\u001b[39;00m LinAlgError\n\u001b[0;32m----> 3\u001b[0m \u001b[38;5;28;01mfrom\u001b[39;00m\u001b[38;5;250m \u001b[39m\u001b[38;5;21;01m.\u001b[39;00m\u001b[38;5;21;01mblas\u001b[39;00m\u001b[38;5;250m \u001b[39m\u001b[38;5;28;01mimport\u001b[39;00m get_blas_funcs\n\u001b[1;32m      4\u001b[0m \u001b[38;5;28;01mfrom\u001b[39;00m\u001b[38;5;250m \u001b[39m\u001b[38;5;21;01m.\u001b[39;00m\u001b[38;5;21;01mlapack\u001b[39;00m\u001b[38;5;250m \u001b[39m\u001b[38;5;28;01mimport\u001b[39;00m get_lapack_funcs\n\u001b[1;32m      6\u001b[0m __all__ \u001b[38;5;241m=\u001b[39m [\u001b[38;5;124m'\u001b[39m\u001b[38;5;124mLinAlgError\u001b[39m\u001b[38;5;124m'\u001b[39m, \u001b[38;5;124m'\u001b[39m\u001b[38;5;124mLinAlgWarning\u001b[39m\u001b[38;5;124m'\u001b[39m, \u001b[38;5;124m'\u001b[39m\u001b[38;5;124mnorm\u001b[39m\u001b[38;5;124m'\u001b[39m]\n",
      "File \u001b[0;32m/opt/anaconda3/envs/ENSAM-Rabat_Seizure_Prediction/lib/python3.11/site-packages/scipy/linalg/blas.py:213\u001b[0m\n\u001b[1;32m    210\u001b[0m \u001b[38;5;28;01mimport\u001b[39;00m\u001b[38;5;250m \u001b[39m\u001b[38;5;21;01mnumpy\u001b[39;00m\u001b[38;5;250m \u001b[39m\u001b[38;5;28;01mas\u001b[39;00m\u001b[38;5;250m \u001b[39m\u001b[38;5;21;01m_np\u001b[39;00m\n\u001b[1;32m    211\u001b[0m \u001b[38;5;28;01mimport\u001b[39;00m\u001b[38;5;250m \u001b[39m\u001b[38;5;21;01mfunctools\u001b[39;00m\n\u001b[0;32m--> 213\u001b[0m \u001b[38;5;28;01mfrom\u001b[39;00m\u001b[38;5;250m \u001b[39m\u001b[38;5;21;01mscipy\u001b[39;00m\u001b[38;5;21;01m.\u001b[39;00m\u001b[38;5;21;01mlinalg\u001b[39;00m\u001b[38;5;250m \u001b[39m\u001b[38;5;28;01mimport\u001b[39;00m _fblas\n\u001b[1;32m    214\u001b[0m \u001b[38;5;28;01mtry\u001b[39;00m:\n\u001b[1;32m    215\u001b[0m     \u001b[38;5;28;01mfrom\u001b[39;00m\u001b[38;5;250m \u001b[39m\u001b[38;5;21;01mscipy\u001b[39;00m\u001b[38;5;21;01m.\u001b[39;00m\u001b[38;5;21;01mlinalg\u001b[39;00m\u001b[38;5;250m \u001b[39m\u001b[38;5;28;01mimport\u001b[39;00m _cblas\n",
      "\u001b[0;31mImportError\u001b[0m: dlopen(/opt/anaconda3/envs/ENSAM-Rabat_Seizure_Prediction/lib/python3.11/site-packages/scipy/linalg/_fblas.cpython-311-darwin.so, 0x0002): Library not loaded: @rpath/liblapack.3.dylib\n  Referenced from: <1BE00856-BEE3-3EDA-8993-1D85FDD2A0FC> /opt/anaconda3/envs/ENSAM-Rabat_Seizure_Prediction/lib/python3.11/site-packages/scipy/linalg/_fblas.cpython-311-darwin.so\n  Reason: tried: '/opt/anaconda3/envs/ENSAM-Rabat_Seizure_Prediction/lib/python3.11/site-packages/scipy/linalg/liblapack.3.dylib' (no such file), '/opt/anaconda3/envs/ENSAM-Rabat_Seizure_Prediction/lib/python3.11/site-packages/scipy/linalg/../../../../liblapack.3.dylib' (no such file), '/opt/anaconda3/envs/ENSAM-Rabat_Seizure_Prediction/lib/python3.11/site-packages/scipy/linalg/liblapack.3.dylib' (no such file), '/opt/anaconda3/envs/ENSAM-Rabat_Seizure_Prediction/lib/python3.11/site-packages/scipy/linalg/../../../../liblapack.3.dylib' (no such file), '/opt/anaconda3/envs/ENSAM-Rabat_Seizure_Prediction/bin/../lib/liblapack.3.dylib' (no such file), '/opt/anaconda3/envs/ENSAM-Rabat_Seizure_Prediction/bin/../lib/liblapack.3.dylib' (no such file), '/usr/local/lib/liblapack.3.dylib' (no such file), '/usr/lib/liblapack.3.dylib' (no such file, not in dyld cache)"
     ]
    }
   ],
   "source": [
    "import os\n",
    "import re\n",
    "import mne\n",
    "import yasa\n",
    "import numpy as np\n",
    "import matplotlib.pyplot as plt"
   ]
  },
  {
   "cell_type": "code",
   "execution_count": null,
   "id": "001b0d02",
   "metadata": {},
   "outputs": [],
   "source": [
    "# %matplotlib osx"
   ]
  },
  {
   "cell_type": "code",
   "execution_count": null,
   "id": "48881516",
   "metadata": {},
   "outputs": [],
   "source": [
    "# clean channel names\n",
    "def clean_channels(raw):\n",
    "    replace_dict = {}\n",
    "    drop_list = []\n",
    "    # for the channel names in the data...\n",
    "    for channel_name in raw.info['ch_names']:\n",
    "        # get the name to change too\n",
    "        name_change = re.findall('\\w+',channel_name)[0].title()\n",
    "        # check if it is already in the change list\n",
    "        if name_change in list(replace_dict.values()):\n",
    "            drop_list.append(channel_name)\n",
    "        else:\n",
    "            # if its not already there get the origional name and what we want to \n",
    "            # change it to\n",
    "            replace_dict[channel_name] = name_change\n",
    "\n",
    "    # drop the ones that would be repeats\n",
    "    raw.drop_channels(drop_list)\n",
    "    # rename the channels\n",
    "    raw.rename_channels(replace_dict)\n",
    "    # set the standard montage\n",
    "    montage =  mne.channels.make_standard_montage('standard_1020')\n",
    "    raw.set_montage(montage, match_case=False)"
   ]
  },
  {
   "cell_type": "code",
   "execution_count": null,
   "id": "bd40c219",
   "metadata": {},
   "outputs": [],
   "source": [
    "def parse_summary(fpath):\n",
    "    file_metadata = []\n",
    "    with open(fpath) as f:\n",
    "        content_str = f.read()\n",
    "        regex = re.compile(r'^\\Z|\\*+') # match empty string or literal asterisks\n",
    "        filtered = [x for x in content_str.split('\\n') if not regex.search(x)]\n",
    "        regex = re.compile('Channel \\d+') # match channel numbers\n",
    "        channels = [x.split(':')[-1].strip() for x in filtered if regex.search(x)]\n",
    "        regex = re.compile('Data Sampling Rate:')\n",
    "        fs = int([x.split(':')[-1].strip() for x in filtered if regex.search(x)][0].split(' ')[0])\n",
    "        regex = re.compile('^(?!Channel|Data).') # match file names\n",
    "        file_metas = [x for x in filtered if regex.findall(x)]\n",
    "        file_meta = {}\n",
    "        for x in file_metas:\n",
    "            k, v = x.partition(':')[::2]\n",
    "\n",
    "            if k == 'Seizure Start Time':\n",
    "                file_meta['Seizure Start Time'] = v\n",
    "            if k == 'Seizure End Time':\n",
    "                file_meta['Seizure End Time'] = v\n",
    "                tup_meta = {'File Name': file_meta['File Name'], \n",
    "                                'File Start Time': file_meta['File Start Time'], \n",
    "                                'File End Time': file_meta['File End Time'],\n",
    "                                'Number of Seizures in File': file_meta['Number of Seizures in File'],\n",
    "                                'Seizure Start Time': file_meta['Seizure Start Time'],\n",
    "                                'Seizure End Time': file_meta['Seizure End Time']\n",
    "                               }\n",
    "                file_metadata.append(tup_meta)\n",
    "\n",
    "            if k == 'File Name':\n",
    "                file_meta['File Name'] = v.strip()\n",
    "            if k == 'File Start Time':\n",
    "                file_meta['File Start Time'] = v.strip()\n",
    "            if k == 'File End Time':\n",
    "                file_meta['File End Time'] = v.strip()\n",
    "            if k == 'Number of Seizures in File':\n",
    "                if int(v) == 0:\n",
    "                    if 'Seizure End Time' in file_meta:\n",
    "                        del file_meta['Seizure End Time']\n",
    "                    if 'Seizure Start Time' in file_meta:\n",
    "                        del file_meta['Seizure Start Time']\n",
    "                    file_meta['Number of Seizures in File'] = 0\n",
    "                    tup_meta = {'File Name': file_meta['File Name'], \n",
    "                                'File Start Time': file_meta['File Start Time'], \n",
    "                                'File End Time': file_meta['File End Time'],\n",
    "                                'Number of Seizures in File': file_meta['Number of Seizures in File']\n",
    "                               }\n",
    "                    file_metadata.append(tup_meta)\n",
    "                if int(v) > 0:\n",
    "                    file_meta['Number of Seizures in File'] = int(v.strip())\n",
    "\n",
    "    return file_metadata"
   ]
  },
  {
   "cell_type": "code",
   "execution_count": null,
   "id": "69593891-d405-44e1-9ecd-1d40b9a4fe33",
   "metadata": {},
   "outputs": [],
   "source": [
    "print(len(raw_clips))\n"
   ]
  },
  {
   "cell_type": "code",
   "execution_count": null,
   "id": "cf4cab1b-96e0-4c31-97fa-b73b8e783680",
   "metadata": {},
   "outputs": [],
   "source": [
    "print(raw_clips)\n"
   ]
  },
  {
   "cell_type": "code",
   "execution_count": null,
   "id": "69e257e0-4138-4b41-ab9d-d06e441e11e2",
   "metadata": {},
   "outputs": [],
   "source": [
    "if len(raw_clips) > 3:\n",
    "    raw = raw_clips[3].copy()\n",
    "    raw.crop(tmin=start, tmax=end, include_tmax=True)\n",
    "    raw.plot(**plot_kwargs)\n",
    "else:\n",
    "    print(\"Not enough raw clips available.\")\n"
   ]
  },
  {
   "cell_type": "code",
   "execution_count": null,
   "id": "b06664e9",
   "metadata": {},
   "outputs": [],
   "source": [
    "root = '/Users/Ilyess/Desktop/physionet.org/files/chbmit/1.0.0'\n",
    "dict_files = parse_summary(os.path.join(root, os.listdir(root)[0])) # load chb01-summary.txt\n",
    "len(dict_files)"
   ]
  },
  {
   "cell_type": "code",
   "execution_count": null,
   "id": "6e0696bb",
   "metadata": {},
   "outputs": [],
   "source": [
    "print('Index | Filename | Contents')\n",
    "print('---')\n",
    "raw_clips = []\n",
    "i = 0\n",
    "for dict_file in dict_files:\n",
    "    if dict_file['File Name'].endswith('edf'):\n",
    "        fpath = os.path.join(root, dict_file['File Name'])\n",
    "        raw = mne.io.read_raw_edf(input_fname=fpath, preload=False, verbose='Error')\n",
    "        print(i, dict_file['File Name'], ' ', end='')\n",
    "        if dict_file['Number of Seizures in File'] > 0:\n",
    "            start_secs = int(dict_file['Seizure Start Time'].split(' ')[-2])\n",
    "            end_secs = int(dict_file['Seizure End Time'].split(' ')[-2])\n",
    "            annot = mne.Annotations(onset=[0, start_secs, end_secs],  # in seconds\n",
    "                           duration=[start_secs,  (end_secs - start_secs), ((60*59)-end_secs)],  # in seconds, too\n",
    "                           description=['Background', 'Seizure', 'Background'])\n",
    "            raw.set_annotations(annot)\n",
    "            print(annot)\n",
    "        else:\n",
    "            annot = mne.Annotations(onset=[0], duration=[3600], description=['Background'])\n",
    "            raw.set_annotations(annot)\n",
    "            print(annot)\n",
    "        clean_channels(raw)\n",
    "        raw_clips.append(raw)\n",
    "    i = i + 1\n",
    "len(raw_clips)"
   ]
  },
  {
   "cell_type": "code",
   "execution_count": null,
   "id": "670200f0",
   "metadata": {},
   "outputs": [],
   "source": [
    "selected_bands = [(1, 4, 'Delta'),\n",
    "         (4, 8, 'Theta'),\n",
    "         (8, 12, 'Alpha'),\n",
    "         (12, 30, 'Beta'),\n",
    "         (30, 127,'Gamma')] # Nyquest frequency is 128 Hz for 256 Hz samping rate, thus we can only see up to 127 Hz limit."
   ]
  },
  {
   "cell_type": "code",
   "execution_count": null,
   "id": "d612b787",
   "metadata": {},
   "outputs": [],
   "source": [
    "# plot parameters\n",
    "plot_kwargs = {\n",
    "    'scalings': dict(eeg=25e-5), # manually set scale to 500 uV for 'best' representation\n",
    "    'show_scrollbars': True,\n",
    "    'show': True\n",
    "}"
   ]
  },
  {
   "cell_type": "code",
   "execution_count": null,
   "id": "3839e8e4",
   "metadata": {},
   "outputs": [],
   "source": [
    "# plot all channels - time domain\n",
    "raw_clips[2].plot(start=2995, **plot_kwargs);"
   ]
  },
  {
   "cell_type": "markdown",
   "id": "83fad167",
   "metadata": {},
   "source": [
    "## Bandpower Shifts"
   ]
  },
  {
   "cell_type": "markdown",
   "id": "2aedee80",
   "metadata": {},
   "source": [
    "First 10s of clip."
   ]
  },
  {
   "cell_type": "code",
   "execution_count": null,
   "id": "57fb2027",
   "metadata": {},
   "outputs": [],
   "source": [
    "# crop 10s period from the start of the clip\n",
    "start, end = 0, 10\n",
    "print(start, end)\n",
    "raw = raw_clips[2].copy()\n",
    "raw.crop(tmin=start, tmax=end, include_tmax=True)\n",
    "raw.plot(**plot_kwargs);\n",
    "\n",
    "# determine the dominant brain wave in all channels from seizure period\n",
    "window_size = 10\n",
    "sampling_freq = raw.info['sfreq']\n",
    "eeg_channel_indices = mne.pick_types(raw.info, meg=False, eeg=True)\n",
    "eeg_data, times = raw[eeg_channel_indices, :]\n",
    "print(eeg_data.shape)\n",
    "df = yasa.bandpower(eeg_data, sampling_freq, win_sec=window_size, bands=selected_bands, bandpass=True,\n",
    "                    ch_names=raw.info.ch_names, relative=True)\n",
    "\n",
    "# visualise with a heatmap\n",
    "channels = list(df.index)\n",
    "bands = list(df.iloc[:,0:5].columns)\n",
    "relative_bandpower = df.iloc[:,0:5].to_numpy()\n",
    "\n",
    "fig, ax = plt.subplots(figsize=(8,5))\n",
    "im = ax.imshow(relative_bandpower.T)\n",
    "ax.set_yticks(np.arange(len(bands)))\n",
    "ax.set_xticks(np.arange(len(channels)))\n",
    "ax.set_yticklabels(bands)\n",
    "ax.set_xticklabels(channels)\n",
    "\n",
    "# Rotate the tick labels and set their alignment.\n",
    "plt.setp(ax.get_xticklabels(), rotation=45, ha=\"right\", rotation_mode=\"anchor\")\n",
    "\n",
    "# loop over data dimensions and create text annotations\n",
    "for i in range(len(bands)):\n",
    "    for j in range(len(channels)):\n",
    "        text = ax.text(j, i, np.around(relative_bandpower[j, i], 2), ha='center', va='center', color='w')\n",
    "\n",
    "ax.set_title(f'Relative Bandpower in Seizure EEG - Window Size: {window_size}')\n",
    "fig.tight_layout()\n",
    "plt.show()"
   ]
  },
  {
   "cell_type": "code",
   "execution_count": null,
   "id": "12966f9a",
   "metadata": {
    "jupyter": {
     "source_hidden": true
    }
   },
   "outputs": [],
   "source": [
    "# crop 10s period ending where seizure begins (2996s)\n",
    "start, end = (2996-10), 2996\n",
    "print(start, end)\n",
    "raw = raw_clips[2].copy()\n",
    "raw.crop(tmin=start, tmax=end, include_tmax=True)\n",
    "raw.plot(**plot_kwargs);"
   ]
  },
  {
   "cell_type": "code",
   "execution_count": 29,
   "id": "7a87f9f0",
   "metadata": {
    "jupyter": {
     "source_hidden": true
    }
   },
   "outputs": [
    {
     "ename": "NameError",
     "evalue": "name 'raw' is not defined",
     "output_type": "error",
     "traceback": [
      "\u001b[0;31m---------------------------------------------------------------------------\u001b[0m",
      "\u001b[0;31mNameError\u001b[0m                                 Traceback (most recent call last)",
      "Cell \u001b[0;32mIn[29], line 3\u001b[0m\n\u001b[1;32m      1\u001b[0m \u001b[38;5;66;03m# determine the dominant brain wave in all channels from seizure period\u001b[39;00m\n\u001b[1;32m      2\u001b[0m window_size \u001b[38;5;241m=\u001b[39m \u001b[38;5;241m10\u001b[39m\n\u001b[0;32m----> 3\u001b[0m sampling_freq \u001b[38;5;241m=\u001b[39m raw\u001b[38;5;241m.\u001b[39minfo[\u001b[38;5;124m'\u001b[39m\u001b[38;5;124msfreq\u001b[39m\u001b[38;5;124m'\u001b[39m]\n\u001b[1;32m      4\u001b[0m eeg_channel_indices \u001b[38;5;241m=\u001b[39m mne\u001b[38;5;241m.\u001b[39mpick_types(raw\u001b[38;5;241m.\u001b[39minfo, meg\u001b[38;5;241m=\u001b[39m\u001b[38;5;28;01mFalse\u001b[39;00m, eeg\u001b[38;5;241m=\u001b[39m\u001b[38;5;28;01mTrue\u001b[39;00m)\n\u001b[1;32m      5\u001b[0m eeg_data, times \u001b[38;5;241m=\u001b[39m raw[eeg_channel_indices, :]\n",
      "\u001b[0;31mNameError\u001b[0m: name 'raw' is not defined"
     ]
    }
   ],
   "source": [
    "# determine the dominant brain wave in all channels from seizure period\n",
    "window_size = 10\n",
    "sampling_freq = raw.info['sfreq']\n",
    "eeg_channel_indices = mne.pick_types(raw.info, meg=False, eeg=True)\n",
    "eeg_data, times = raw[eeg_channel_indices, :]\n",
    "print(eeg_data.shape)\n",
    "df = yasa.bandpower(eeg_data, sampling_freq, win_sec=window_size, bands=selected_bands, bandpass=True,\n",
    "                    ch_names=raw.info.ch_names, relative=True)\n",
    "\n",
    "# visualise with a heatmap\n",
    "channels = list(df.index)\n",
    "bands = list(df.iloc[:,0:5].columns)\n",
    "relative_bandpower = df.iloc[:,0:5].to_numpy()\n",
    "\n",
    "fig, ax = plt.subplots(figsize=(8,5))\n",
    "im = ax.imshow(relative_bandpower.T)\n",
    "ax.set_yticks(np.arange(len(bands)))\n",
    "ax.set_xticks(np.arange(len(channels)))\n",
    "ax.set_yticklabels(bands)\n",
    "ax.set_xticklabels(channels)\n",
    "\n",
    "# Rotate the tick labels and set their alignment.\n",
    "plt.setp(ax.get_xticklabels(), rotation=45, ha=\"right\", rotation_mode=\"anchor\")\n",
    "\n",
    "# loop over data dimensions and create text annotations\n",
    "for i in range(len(bands)):\n",
    "    for j in range(len(channels)):\n",
    "        text = ax.text(j, i, np.around(relative_bandpower[j, i], 2), ha='center', va='center', color='w')\n",
    "\n",
    "ax.set_title(f'Relative Bandpower in Seizure EEG - Window Size: {window_size}')\n",
    "fig.tight_layout()\n",
    "plt.show()"
   ]
  },
  {
   "cell_type": "code",
   "execution_count": 31,
   "id": "f8d45752",
   "metadata": {
    "jupyter": {
     "source_hidden": true
    }
   },
   "outputs": [
    {
     "name": "stdout",
     "output_type": "stream",
     "text": [
      "2996 3006\n"
     ]
    },
    {
     "ename": "IndexError",
     "evalue": "list index out of range",
     "output_type": "error",
     "traceback": [
      "\u001b[0;31m---------------------------------------------------------------------------\u001b[0m",
      "\u001b[0;31mIndexError\u001b[0m                                Traceback (most recent call last)",
      "Cell \u001b[0;32mIn[31], line 4\u001b[0m\n\u001b[1;32m      2\u001b[0m start, end \u001b[38;5;241m=\u001b[39m \u001b[38;5;241m2996\u001b[39m, \u001b[38;5;241m2996\u001b[39m\u001b[38;5;241m+\u001b[39m\u001b[38;5;241m10\u001b[39m\n\u001b[1;32m      3\u001b[0m \u001b[38;5;28mprint\u001b[39m(start, end)\n\u001b[0;32m----> 4\u001b[0m raw \u001b[38;5;241m=\u001b[39m raw_clips[\u001b[38;5;241m2\u001b[39m]\u001b[38;5;241m.\u001b[39mcopy()\n\u001b[1;32m      5\u001b[0m raw\u001b[38;5;241m.\u001b[39mcrop(tmin\u001b[38;5;241m=\u001b[39mstart, tmax\u001b[38;5;241m=\u001b[39mend, include_tmax\u001b[38;5;241m=\u001b[39m\u001b[38;5;28;01mTrue\u001b[39;00m)\n\u001b[1;32m      6\u001b[0m raw\u001b[38;5;241m.\u001b[39mplot(\u001b[38;5;241m*\u001b[39m\u001b[38;5;241m*\u001b[39mplot_kwargs)\n",
      "\u001b[0;31mIndexError\u001b[0m: list index out of range"
     ]
    }
   ],
   "source": [
    "# crop 10s period starting where seizure begins (2996s)\n",
    "start, end = 2996, 2996+10\n",
    "print(start, end)\n",
    "raw = raw_clips[2].copy()\n",
    "raw.crop(tmin=start, tmax=end, include_tmax=True)\n",
    "raw.plot(**plot_kwargs);"
   ]
  },
  {
   "cell_type": "code",
   "execution_count": 33,
   "id": "4acecf3a",
   "metadata": {
    "jupyter": {
     "source_hidden": true
    }
   },
   "outputs": [
    {
     "ename": "NameError",
     "evalue": "name 'raw' is not defined",
     "output_type": "error",
     "traceback": [
      "\u001b[0;31m---------------------------------------------------------------------------\u001b[0m",
      "\u001b[0;31mNameError\u001b[0m                                 Traceback (most recent call last)",
      "Cell \u001b[0;32mIn[33], line 3\u001b[0m\n\u001b[1;32m      1\u001b[0m \u001b[38;5;66;03m# determine the dominant brain wave in all channels from seizure period\u001b[39;00m\n\u001b[1;32m      2\u001b[0m window_size \u001b[38;5;241m=\u001b[39m \u001b[38;5;241m10\u001b[39m\n\u001b[0;32m----> 3\u001b[0m sampling_freq \u001b[38;5;241m=\u001b[39m raw\u001b[38;5;241m.\u001b[39minfo[\u001b[38;5;124m'\u001b[39m\u001b[38;5;124msfreq\u001b[39m\u001b[38;5;124m'\u001b[39m]\n\u001b[1;32m      4\u001b[0m eeg_channel_indices \u001b[38;5;241m=\u001b[39m mne\u001b[38;5;241m.\u001b[39mpick_types(raw\u001b[38;5;241m.\u001b[39minfo, meg\u001b[38;5;241m=\u001b[39m\u001b[38;5;28;01mFalse\u001b[39;00m, eeg\u001b[38;5;241m=\u001b[39m\u001b[38;5;28;01mTrue\u001b[39;00m)\n\u001b[1;32m      5\u001b[0m eeg_data, times \u001b[38;5;241m=\u001b[39m raw[eeg_channel_indices, :]\n",
      "\u001b[0;31mNameError\u001b[0m: name 'raw' is not defined"
     ]
    }
   ],
   "source": [
    "# determine the dominant brain wave in all channels from seizure period\n",
    "window_size = 10\n",
    "sampling_freq = raw.info['sfreq']\n",
    "eeg_channel_indices = mne.pick_types(raw.info, meg=False, eeg=True)\n",
    "eeg_data, times = raw[eeg_channel_indices, :]\n",
    "print(eeg_data.shape)\n",
    "df = yasa.bandpower(eeg_data, sampling_freq, win_sec=window_size, bands=selected_bands, bandpass=True,\n",
    "                    ch_names=raw.info.ch_names, relative=True)\n",
    "\n",
    "# visualise with a heatmap\n",
    "channels = list(df.index)\n",
    "bands = list(df.iloc[:,0:5].columns)\n",
    "relative_bandpower = df.iloc[:,0:5].to_numpy()\n",
    "\n",
    "fig, ax = plt.subplots(figsize=(8,5))\n",
    "im = ax.imshow(relative_bandpower.T)\n",
    "ax.set_yticks(np.arange(len(bands)))\n",
    "ax.set_xticks(np.arange(len(channels)))\n",
    "ax.set_yticklabels(bands)\n",
    "ax.set_xticklabels(channels)\n",
    "\n",
    "# Rotate the tick labels and set their alignment.\n",
    "plt.setp(ax.get_xticklabels(), rotation=45, ha=\"right\", rotation_mode=\"anchor\")\n",
    "\n",
    "# loop over data dimensions and create text annotations\n",
    "for i in range(len(bands)):\n",
    "    for j in range(len(channels)):\n",
    "        text = ax.text(j, i, np.around(relative_bandpower[j, i], 2), ha='center', va='center', color='w')\n",
    "\n",
    "ax.set_title(f'Relative Bandpower in Seizure EEG - Window Size: {window_size}')\n",
    "fig.tight_layout()\n",
    "plt.show()"
   ]
  },
  {
   "cell_type": "code",
   "execution_count": 35,
   "id": "cfc9c871",
   "metadata": {
    "jupyter": {
     "source_hidden": true
    }
   },
   "outputs": [
    {
     "name": "stdout",
     "output_type": "stream",
     "text": [
      "3006 3016\n"
     ]
    },
    {
     "ename": "IndexError",
     "evalue": "list index out of range",
     "output_type": "error",
     "traceback": [
      "\u001b[0;31m---------------------------------------------------------------------------\u001b[0m",
      "\u001b[0;31mIndexError\u001b[0m                                Traceback (most recent call last)",
      "Cell \u001b[0;32mIn[35], line 4\u001b[0m\n\u001b[1;32m      2\u001b[0m start, end \u001b[38;5;241m=\u001b[39m \u001b[38;5;241m2996\u001b[39m\u001b[38;5;241m+\u001b[39m\u001b[38;5;241m10\u001b[39m, \u001b[38;5;241m2996\u001b[39m\u001b[38;5;241m+\u001b[39m\u001b[38;5;241m20\u001b[39m\n\u001b[1;32m      3\u001b[0m \u001b[38;5;28mprint\u001b[39m(start, end)\n\u001b[0;32m----> 4\u001b[0m raw \u001b[38;5;241m=\u001b[39m raw_clips[\u001b[38;5;241m2\u001b[39m]\u001b[38;5;241m.\u001b[39mcopy()\n\u001b[1;32m      5\u001b[0m raw\u001b[38;5;241m.\u001b[39mcrop(tmin\u001b[38;5;241m=\u001b[39mstart, tmax\u001b[38;5;241m=\u001b[39mend, include_tmax\u001b[38;5;241m=\u001b[39m\u001b[38;5;28;01mTrue\u001b[39;00m)\n\u001b[1;32m      6\u001b[0m raw\u001b[38;5;241m.\u001b[39mplot(\u001b[38;5;241m*\u001b[39m\u001b[38;5;241m*\u001b[39mplot_kwargs)\n",
      "\u001b[0;31mIndexError\u001b[0m: list index out of range"
     ]
    }
   ],
   "source": [
    "# crop 10s period 10 after seizure starts\n",
    "start, end = 2996+10, 2996+20\n",
    "print(start, end)\n",
    "raw = raw_clips[2].copy()\n",
    "raw.crop(tmin=start, tmax=end, include_tmax=True)\n",
    "raw.plot(**plot_kwargs);"
   ]
  },
  {
   "cell_type": "code",
   "execution_count": 37,
   "id": "8c4185f7",
   "metadata": {
    "jupyter": {
     "source_hidden": true
    }
   },
   "outputs": [
    {
     "ename": "NameError",
     "evalue": "name 'raw' is not defined",
     "output_type": "error",
     "traceback": [
      "\u001b[0;31m---------------------------------------------------------------------------\u001b[0m",
      "\u001b[0;31mNameError\u001b[0m                                 Traceback (most recent call last)",
      "Cell \u001b[0;32mIn[37], line 3\u001b[0m\n\u001b[1;32m      1\u001b[0m \u001b[38;5;66;03m# determine the dominant brain wave in all channels from seizure period\u001b[39;00m\n\u001b[1;32m      2\u001b[0m window_size \u001b[38;5;241m=\u001b[39m \u001b[38;5;241m10\u001b[39m\n\u001b[0;32m----> 3\u001b[0m sampling_freq \u001b[38;5;241m=\u001b[39m raw\u001b[38;5;241m.\u001b[39minfo[\u001b[38;5;124m'\u001b[39m\u001b[38;5;124msfreq\u001b[39m\u001b[38;5;124m'\u001b[39m]\n\u001b[1;32m      4\u001b[0m eeg_channel_indices \u001b[38;5;241m=\u001b[39m mne\u001b[38;5;241m.\u001b[39mpick_types(raw\u001b[38;5;241m.\u001b[39minfo, meg\u001b[38;5;241m=\u001b[39m\u001b[38;5;28;01mFalse\u001b[39;00m, eeg\u001b[38;5;241m=\u001b[39m\u001b[38;5;28;01mTrue\u001b[39;00m)\n\u001b[1;32m      5\u001b[0m eeg_data, times \u001b[38;5;241m=\u001b[39m raw[eeg_channel_indices, :]\n",
      "\u001b[0;31mNameError\u001b[0m: name 'raw' is not defined"
     ]
    }
   ],
   "source": [
    "# determine the dominant brain wave in all channels from seizure period\n",
    "window_size = 10\n",
    "sampling_freq = raw.info['sfreq']\n",
    "eeg_channel_indices = mne.pick_types(raw.info, meg=False, eeg=True)\n",
    "eeg_data, times = raw[eeg_channel_indices, :]\n",
    "print(eeg_data.shape)\n",
    "df = yasa.bandpower(eeg_data, sampling_freq, win_sec=window_size, bands=selected_bands, bandpass=True,\n",
    "                    ch_names=raw.info.ch_names, relative=True)\n",
    "\n",
    "# visualise with a heatmap\n",
    "channels = list(df.index)\n",
    "bands = list(df.iloc[:,0:5].columns)\n",
    "relative_bandpower = df.iloc[:,0:5].to_numpy()\n",
    "\n",
    "fig, ax = plt.subplots(figsize=(8,5))\n",
    "im = ax.imshow(relative_bandpower.T)\n",
    "ax.set_yticks(np.arange(len(bands)))\n",
    "ax.set_xticks(np.arange(len(channels)))\n",
    "ax.set_yticklabels(bands)\n",
    "ax.set_xticklabels(channels)\n",
    "\n",
    "# Rotate the tick labels and set their alignment.\n",
    "plt.setp(ax.get_xticklabels(), rotation=45, ha=\"right\", rotation_mode=\"anchor\")\n",
    "\n",
    "# loop over data dimensions and create text annotations\n",
    "for i in range(len(bands)):\n",
    "    for j in range(len(channels)):\n",
    "        text = ax.text(j, i, np.around(relative_bandpower[j, i], 2), ha='center', va='center', color='w')\n",
    "\n",
    "ax.set_title(f'Relative Bandpower in Seizure EEG - Window Size: {window_size}')\n",
    "fig.tight_layout()\n",
    "plt.show()"
   ]
  },
  {
   "cell_type": "code",
   "execution_count": 39,
   "id": "50109fd8",
   "metadata": {
    "jupyter": {
     "source_hidden": true
    }
   },
   "outputs": [
    {
     "name": "stdout",
     "output_type": "stream",
     "text": [
      "3026 3036\n"
     ]
    },
    {
     "ename": "IndexError",
     "evalue": "list index out of range",
     "output_type": "error",
     "traceback": [
      "\u001b[0;31m---------------------------------------------------------------------------\u001b[0m",
      "\u001b[0;31mIndexError\u001b[0m                                Traceback (most recent call last)",
      "Cell \u001b[0;32mIn[39], line 4\u001b[0m\n\u001b[1;32m      2\u001b[0m start, end \u001b[38;5;241m=\u001b[39m \u001b[38;5;241m3036\u001b[39m\u001b[38;5;241m-\u001b[39m\u001b[38;5;241m10\u001b[39m, \u001b[38;5;241m3036\u001b[39m\n\u001b[1;32m      3\u001b[0m \u001b[38;5;28mprint\u001b[39m(start, end)\n\u001b[0;32m----> 4\u001b[0m raw \u001b[38;5;241m=\u001b[39m raw_clips[\u001b[38;5;241m2\u001b[39m]\u001b[38;5;241m.\u001b[39mcopy()\n\u001b[1;32m      5\u001b[0m raw\u001b[38;5;241m.\u001b[39mcrop(tmin\u001b[38;5;241m=\u001b[39mstart, tmax\u001b[38;5;241m=\u001b[39mend, include_tmax\u001b[38;5;241m=\u001b[39m\u001b[38;5;28;01mTrue\u001b[39;00m)\n\u001b[1;32m      6\u001b[0m raw\u001b[38;5;241m.\u001b[39mplot(\u001b[38;5;241m*\u001b[39m\u001b[38;5;241m*\u001b[39mplot_kwargs)\n",
      "\u001b[0;31mIndexError\u001b[0m: list index out of range"
     ]
    }
   ],
   "source": [
    "# crop 10s period before seizure ends\n",
    "start, end = 3036-10, 3036\n",
    "print(start, end)\n",
    "raw = raw_clips[2].copy()\n",
    "raw.crop(tmin=start, tmax=end, include_tmax=True)\n",
    "raw.plot(**plot_kwargs);"
   ]
  },
  {
   "cell_type": "code",
   "execution_count": 41,
   "id": "9e4471af",
   "metadata": {
    "jupyter": {
     "source_hidden": true
    }
   },
   "outputs": [
    {
     "ename": "NameError",
     "evalue": "name 'raw' is not defined",
     "output_type": "error",
     "traceback": [
      "\u001b[0;31m---------------------------------------------------------------------------\u001b[0m",
      "\u001b[0;31mNameError\u001b[0m                                 Traceback (most recent call last)",
      "Cell \u001b[0;32mIn[41], line 3\u001b[0m\n\u001b[1;32m      1\u001b[0m \u001b[38;5;66;03m# determine the dominant brain wave in all channels from seizure period\u001b[39;00m\n\u001b[1;32m      2\u001b[0m window_size \u001b[38;5;241m=\u001b[39m \u001b[38;5;241m10\u001b[39m\n\u001b[0;32m----> 3\u001b[0m sampling_freq \u001b[38;5;241m=\u001b[39m raw\u001b[38;5;241m.\u001b[39minfo[\u001b[38;5;124m'\u001b[39m\u001b[38;5;124msfreq\u001b[39m\u001b[38;5;124m'\u001b[39m]\n\u001b[1;32m      4\u001b[0m eeg_channel_indices \u001b[38;5;241m=\u001b[39m mne\u001b[38;5;241m.\u001b[39mpick_types(raw\u001b[38;5;241m.\u001b[39minfo, meg\u001b[38;5;241m=\u001b[39m\u001b[38;5;28;01mFalse\u001b[39;00m, eeg\u001b[38;5;241m=\u001b[39m\u001b[38;5;28;01mTrue\u001b[39;00m)\n\u001b[1;32m      5\u001b[0m eeg_data, times \u001b[38;5;241m=\u001b[39m raw[eeg_channel_indices, :]\n",
      "\u001b[0;31mNameError\u001b[0m: name 'raw' is not defined"
     ]
    }
   ],
   "source": [
    "# determine the dominant brain wave in all channels from seizure period\n",
    "window_size = 10\n",
    "sampling_freq = raw.info['sfreq']\n",
    "eeg_channel_indices = mne.pick_types(raw.info, meg=False, eeg=True)\n",
    "eeg_data, times = raw[eeg_channel_indices, :]\n",
    "print(eeg_data.shape)\n",
    "df = yasa.bandpower(eeg_data, sampling_freq, win_sec=window_size, bands=selected_bands, bandpass=True,\n",
    "                    ch_names=raw.info.ch_names, relative=True)\n",
    "\n",
    "# visualise with a heatmap\n",
    "channels = list(df.index)\n",
    "bands = list(df.iloc[:,0:5].columns)\n",
    "relative_bandpower = df.iloc[:,0:5].to_numpy()\n",
    "\n",
    "fig, ax = plt.subplots(figsize=(8,5))\n",
    "im = ax.imshow(relative_bandpower.T)\n",
    "ax.set_yticks(np.arange(len(bands)))\n",
    "ax.set_xticks(np.arange(len(channels)))\n",
    "ax.set_yticklabels(bands)\n",
    "ax.set_xticklabels(channels)\n",
    "\n",
    "# Rotate the tick labels and set their alignment.\n",
    "plt.setp(ax.get_xticklabels(), rotation=45, ha=\"right\", rotation_mode=\"anchor\")\n",
    "\n",
    "# loop over data dimensions and create text annotations\n",
    "for i in range(len(bands)):\n",
    "    for j in range(len(channels)):\n",
    "        text = ax.text(j, i, np.around(relative_bandpower[j, i], 2), ha='center', va='center', color='w')\n",
    "\n",
    "ax.set_title(f'Relative Bandpower in Seizure EEG - Window Size: {window_size}')\n",
    "fig.tight_layout()\n",
    "plt.show()"
   ]
  },
  {
   "cell_type": "code",
   "execution_count": 43,
   "id": "35caf5a0",
   "metadata": {
    "jupyter": {
     "source_hidden": true
    }
   },
   "outputs": [
    {
     "name": "stdout",
     "output_type": "stream",
     "text": [
      "3036 3046\n"
     ]
    },
    {
     "ename": "IndexError",
     "evalue": "list index out of range",
     "output_type": "error",
     "traceback": [
      "\u001b[0;31m---------------------------------------------------------------------------\u001b[0m",
      "\u001b[0;31mIndexError\u001b[0m                                Traceback (most recent call last)",
      "Cell \u001b[0;32mIn[43], line 4\u001b[0m\n\u001b[1;32m      2\u001b[0m start, end \u001b[38;5;241m=\u001b[39m \u001b[38;5;241m3036\u001b[39m, \u001b[38;5;241m3036\u001b[39m\u001b[38;5;241m+\u001b[39m\u001b[38;5;241m10\u001b[39m\n\u001b[1;32m      3\u001b[0m \u001b[38;5;28mprint\u001b[39m(start, end)\n\u001b[0;32m----> 4\u001b[0m raw \u001b[38;5;241m=\u001b[39m raw_clips[\u001b[38;5;241m2\u001b[39m]\u001b[38;5;241m.\u001b[39mcopy()\n\u001b[1;32m      5\u001b[0m raw\u001b[38;5;241m.\u001b[39mcrop(tmin\u001b[38;5;241m=\u001b[39mstart, tmax\u001b[38;5;241m=\u001b[39mend, include_tmax\u001b[38;5;241m=\u001b[39m\u001b[38;5;28;01mTrue\u001b[39;00m)\n\u001b[1;32m      6\u001b[0m raw\u001b[38;5;241m.\u001b[39mplot(\u001b[38;5;241m*\u001b[39m\u001b[38;5;241m*\u001b[39mplot_kwargs)\n",
      "\u001b[0;31mIndexError\u001b[0m: list index out of range"
     ]
    }
   ],
   "source": [
    "# crop 10s period after seizure ends\n",
    "start, end = 3036, 3036+10\n",
    "print(start, end)\n",
    "raw = raw_clips[2].copy()\n",
    "raw.crop(tmin=start, tmax=end, include_tmax=True)\n",
    "raw.plot(**plot_kwargs);"
   ]
  },
  {
   "cell_type": "code",
   "execution_count": 45,
   "id": "58d887e6",
   "metadata": {
    "jupyter": {
     "source_hidden": true
    }
   },
   "outputs": [
    {
     "ename": "NameError",
     "evalue": "name 'raw' is not defined",
     "output_type": "error",
     "traceback": [
      "\u001b[0;31m---------------------------------------------------------------------------\u001b[0m",
      "\u001b[0;31mNameError\u001b[0m                                 Traceback (most recent call last)",
      "Cell \u001b[0;32mIn[45], line 3\u001b[0m\n\u001b[1;32m      1\u001b[0m \u001b[38;5;66;03m# determine the dominant brain wave in all channels from seizure period\u001b[39;00m\n\u001b[1;32m      2\u001b[0m window_size \u001b[38;5;241m=\u001b[39m \u001b[38;5;241m10\u001b[39m\n\u001b[0;32m----> 3\u001b[0m sampling_freq \u001b[38;5;241m=\u001b[39m raw\u001b[38;5;241m.\u001b[39minfo[\u001b[38;5;124m'\u001b[39m\u001b[38;5;124msfreq\u001b[39m\u001b[38;5;124m'\u001b[39m]\n\u001b[1;32m      4\u001b[0m eeg_channel_indices \u001b[38;5;241m=\u001b[39m mne\u001b[38;5;241m.\u001b[39mpick_types(raw\u001b[38;5;241m.\u001b[39minfo, meg\u001b[38;5;241m=\u001b[39m\u001b[38;5;28;01mFalse\u001b[39;00m, eeg\u001b[38;5;241m=\u001b[39m\u001b[38;5;28;01mTrue\u001b[39;00m)\n\u001b[1;32m      5\u001b[0m eeg_data, times \u001b[38;5;241m=\u001b[39m raw[eeg_channel_indices, :]\n",
      "\u001b[0;31mNameError\u001b[0m: name 'raw' is not defined"
     ]
    }
   ],
   "source": [
    "# determine the dominant brain wave in all channels from seizure period\n",
    "window_size = 10\n",
    "sampling_freq = raw.info['sfreq']\n",
    "eeg_channel_indices = mne.pick_types(raw.info, meg=False, eeg=True)\n",
    "eeg_data, times = raw[eeg_channel_indices, :]\n",
    "print(eeg_data.shape)\n",
    "df = yasa.bandpower(eeg_data, sampling_freq, win_sec=window_size, bands=selected_bands, bandpass=True,\n",
    "                    ch_names=raw.info.ch_names, relative=True)\n",
    "\n",
    "# visualise with a heatmap\n",
    "channels = list(df.index)\n",
    "bands = list(df.iloc[:,0:5].columns)\n",
    "relative_bandpower = df.iloc[:,0:5].to_numpy()\n",
    "\n",
    "fig, ax = plt.subplots(figsize=(8,5))\n",
    "im = ax.imshow(relative_bandpower.T)\n",
    "ax.set_yticks(np.arange(len(bands)))\n",
    "ax.set_xticks(np.arange(len(channels)))\n",
    "ax.set_yticklabels(bands)\n",
    "ax.set_xticklabels(channels)\n",
    "\n",
    "# Rotate the tick labels and set their alignment.\n",
    "plt.setp(ax.get_xticklabels(), rotation=45, ha=\"right\", rotation_mode=\"anchor\")\n",
    "\n",
    "# loop over data dimensions and create text annotations\n",
    "for i in range(len(bands)):\n",
    "    for j in range(len(channels)):\n",
    "        text = ax.text(j, i, np.around(relative_bandpower[j, i], 2), ha='center', va='center', color='w')\n",
    "\n",
    "ax.set_title(f'Relative Bandpower in Seizure EEG - Window Size: {window_size}')\n",
    "fig.tight_layout()\n",
    "plt.show()"
   ]
  },
  {
   "cell_type": "markdown",
   "id": "f1ff51fd",
   "metadata": {},
   "source": [
    "Last 10s of clip."
   ]
  },
  {
   "cell_type": "code",
   "execution_count": 48,
   "id": "e1955c62",
   "metadata": {
    "jupyter": {
     "source_hidden": true
    }
   },
   "outputs": [
    {
     "name": "stdout",
     "output_type": "stream",
     "text": [
      "3589 3599\n"
     ]
    },
    {
     "ename": "IndexError",
     "evalue": "list index out of range",
     "output_type": "error",
     "traceback": [
      "\u001b[0;31m---------------------------------------------------------------------------\u001b[0m",
      "\u001b[0;31mIndexError\u001b[0m                                Traceback (most recent call last)",
      "Cell \u001b[0;32mIn[48], line 3\u001b[0m\n\u001b[1;32m      1\u001b[0m start, end \u001b[38;5;241m=\u001b[39m \u001b[38;5;241m3599\u001b[39m\u001b[38;5;241m-\u001b[39m\u001b[38;5;241m10\u001b[39m, \u001b[38;5;241m3599\u001b[39m\n\u001b[1;32m      2\u001b[0m \u001b[38;5;28mprint\u001b[39m(start, end)\n\u001b[0;32m----> 3\u001b[0m raw \u001b[38;5;241m=\u001b[39m raw_clips[\u001b[38;5;241m2\u001b[39m]\u001b[38;5;241m.\u001b[39mcopy()\n\u001b[1;32m      4\u001b[0m raw\u001b[38;5;241m.\u001b[39mcrop(tmin\u001b[38;5;241m=\u001b[39mstart, tmax\u001b[38;5;241m=\u001b[39mend, include_tmax\u001b[38;5;241m=\u001b[39m\u001b[38;5;28;01mTrue\u001b[39;00m)\n\u001b[1;32m      5\u001b[0m raw\u001b[38;5;241m.\u001b[39mplot(\u001b[38;5;241m*\u001b[39m\u001b[38;5;241m*\u001b[39mplot_kwargs);\n",
      "\u001b[0;31mIndexError\u001b[0m: list index out of range"
     ]
    }
   ],
   "source": [
    "start, end = 3599-10, 3599\n",
    "print(start, end)\n",
    "raw = raw_clips[2].copy()\n",
    "raw.crop(tmin=start, tmax=end, include_tmax=True)\n",
    "raw.plot(**plot_kwargs);\n",
    "\n",
    "# determine the dominant brain wave in all channels from seizure period\n",
    "window_size = 10\n",
    "sampling_freq = raw.info['sfreq']\n",
    "eeg_channel_indices = mne.pick_types(raw.info, meg=False, eeg=True)\n",
    "eeg_data, times = raw[eeg_channel_indices, :]\n",
    "print(eeg_data.shape)\n",
    "df = yasa.bandpower(eeg_data, sampling_freq, win_sec=window_size, bands=selected_bands, bandpass=True,\n",
    "                    ch_names=raw.info.ch_names, relative=True)\n",
    "\n",
    "# visualise with a heatmap\n",
    "channels = list(df.index)\n",
    "bands = list(df.iloc[:,0:5].columns)\n",
    "relative_bandpower = df.iloc[:,0:5].to_numpy()\n",
    "\n",
    "fig, ax = plt.subplots(figsize=(8,5))\n",
    "im = ax.imshow(relative_bandpower.T)\n",
    "ax.set_yticks(np.arange(len(bands)))\n",
    "ax.set_xticks(np.arange(len(channels)))\n",
    "ax.set_yticklabels(bands)\n",
    "ax.set_xticklabels(channels)\n",
    "\n",
    "# Rotate the tick labels and set their alignment.\n",
    "plt.setp(ax.get_xticklabels(), rotation=45, ha=\"right\", rotation_mode=\"anchor\")\n",
    "\n",
    "# loop over data dimensions and create text annotations\n",
    "for i in range(len(bands)):\n",
    "    for j in range(len(channels)):\n",
    "        text = ax.text(j, i, np.around(relative_bandpower[j, i], 2), ha='center', va='center', color='w')\n",
    "\n",
    "ax.set_title(f'Relative Bandpower in Seizure EEG - Window Size: {window_size}')\n",
    "fig.tight_layout()\n",
    "plt.show()"
   ]
  },
  {
   "cell_type": "markdown",
   "id": "e036647d",
   "metadata": {},
   "source": [
    "Next hour..."
   ]
  },
  {
   "cell_type": "code",
   "execution_count": 51,
   "id": "73eaf5c0",
   "metadata": {
    "jupyter": {
     "source_hidden": true
    }
   },
   "outputs": [
    {
     "name": "stdout",
     "output_type": "stream",
     "text": [
      "0 10\n"
     ]
    },
    {
     "ename": "IndexError",
     "evalue": "list index out of range",
     "output_type": "error",
     "traceback": [
      "\u001b[0;31m---------------------------------------------------------------------------\u001b[0m",
      "\u001b[0;31mIndexError\u001b[0m                                Traceback (most recent call last)",
      "Cell \u001b[0;32mIn[51], line 4\u001b[0m\n\u001b[1;32m      2\u001b[0m start, end \u001b[38;5;241m=\u001b[39m \u001b[38;5;241m0\u001b[39m, \u001b[38;5;241m10\u001b[39m\n\u001b[1;32m      3\u001b[0m \u001b[38;5;28mprint\u001b[39m(start, end)\n\u001b[0;32m----> 4\u001b[0m raw \u001b[38;5;241m=\u001b[39m raw_clips[\u001b[38;5;241m3\u001b[39m]\u001b[38;5;241m.\u001b[39mcopy()\n\u001b[1;32m      5\u001b[0m raw\u001b[38;5;241m.\u001b[39mcrop(tmin\u001b[38;5;241m=\u001b[39mstart, tmax\u001b[38;5;241m=\u001b[39mend, include_tmax\u001b[38;5;241m=\u001b[39m\u001b[38;5;28;01mTrue\u001b[39;00m)\n\u001b[1;32m      6\u001b[0m raw\u001b[38;5;241m.\u001b[39mplot(\u001b[38;5;241m*\u001b[39m\u001b[38;5;241m*\u001b[39mplot_kwargs);\n",
      "\u001b[0;31mIndexError\u001b[0m: list index out of range"
     ]
    }
   ],
   "source": [
    "# crop 10s period from the start of the clip\n",
    "start, end = 0, 10\n",
    "print(start, end)\n",
    "raw = raw_clips[3].copy()\n",
    "raw.crop(tmin=start, tmax=end, include_tmax=True)\n",
    "raw.plot(**plot_kwargs);\n",
    "\n",
    "# determine the dominant brain wave in all channels from seizure period\n",
    "window_size = 10\n",
    "sampling_freq = raw.info['sfreq']\n",
    "eeg_channel_indices = mne.pick_types(raw.info, meg=False, eeg=True)\n",
    "eeg_data, times = raw[eeg_channel_indices, :]\n",
    "print(eeg_data.shape)\n",
    "df = yasa.bandpower(eeg_data, sampling_freq, win_sec=window_size, bands=selected_bands, bandpass=True,\n",
    "                    ch_names=raw.info.ch_names, relative=True)\n",
    "\n",
    "# visualise with a heatmap\n",
    "channels = list(df.index)\n",
    "bands = list(df.iloc[:,0:5].columns)\n",
    "relative_bandpower = df.iloc[:,0:5].to_numpy()\n",
    "\n",
    "fig, ax = plt.subplots(figsize=(8,5))\n",
    "im = ax.imshow(relative_bandpower.T)\n",
    "ax.set_yticks(np.arange(len(bands)))\n",
    "ax.set_xticks(np.arange(len(channels)))\n",
    "ax.set_yticklabels(bands)\n",
    "ax.set_xticklabels(channels)\n",
    "\n",
    "# Rotate the tick labels and set their alignment.\n",
    "plt.setp(ax.get_xticklabels(), rotation=45, ha=\"right\", rotation_mode=\"anchor\")\n",
    "\n",
    "# loop over data dimensions and create text annotations\n",
    "for i in range(len(bands)):\n",
    "    for j in range(len(channels)):\n",
    "        text = ax.text(j, i, np.around(relative_bandpower[j, i], 2), ha='center', va='center', color='w')\n",
    "\n",
    "ax.set_title(f'Relative Bandpower in Seizure EEG - Window Size: {window_size}')\n",
    "fig.tight_layout()\n",
    "plt.show()"
   ]
  },
  {
   "cell_type": "markdown",
   "id": "ec3db38f",
   "metadata": {},
   "source": [
    "10s pre seizure"
   ]
  },
  {
   "cell_type": "code",
   "execution_count": 54,
   "id": "4f09409b",
   "metadata": {
    "jupyter": {
     "source_hidden": true
    }
   },
   "outputs": [
    {
     "name": "stdout",
     "output_type": "stream",
     "text": [
      "1457 1467\n"
     ]
    },
    {
     "ename": "IndexError",
     "evalue": "list index out of range",
     "output_type": "error",
     "traceback": [
      "\u001b[0;31m---------------------------------------------------------------------------\u001b[0m",
      "\u001b[0;31mIndexError\u001b[0m                                Traceback (most recent call last)",
      "Cell \u001b[0;32mIn[54], line 3\u001b[0m\n\u001b[1;32m      1\u001b[0m start, end \u001b[38;5;241m=\u001b[39m \u001b[38;5;241m1467\u001b[39m\u001b[38;5;241m-\u001b[39m\u001b[38;5;241m10\u001b[39m, \u001b[38;5;241m1467\u001b[39m\n\u001b[1;32m      2\u001b[0m \u001b[38;5;28mprint\u001b[39m(start, end)\n\u001b[0;32m----> 3\u001b[0m raw \u001b[38;5;241m=\u001b[39m raw_clips[\u001b[38;5;241m3\u001b[39m]\u001b[38;5;241m.\u001b[39mcopy()\n\u001b[1;32m      4\u001b[0m raw\u001b[38;5;241m.\u001b[39mcrop(tmin\u001b[38;5;241m=\u001b[39mstart, tmax\u001b[38;5;241m=\u001b[39mend, include_tmax\u001b[38;5;241m=\u001b[39m\u001b[38;5;28;01mTrue\u001b[39;00m)\n\u001b[1;32m      5\u001b[0m raw\u001b[38;5;241m.\u001b[39mplot(\u001b[38;5;241m*\u001b[39m\u001b[38;5;241m*\u001b[39mplot_kwargs);\n",
      "\u001b[0;31mIndexError\u001b[0m: list index out of range"
     ]
    }
   ],
   "source": [
    "start, end = 1467-10, 1467\n",
    "print(start, end)\n",
    "raw = raw_clips[3].copy()\n",
    "raw.crop(tmin=start, tmax=end, include_tmax=True)\n",
    "raw.plot(**plot_kwargs);\n",
    "\n",
    "# determine the dominant brain wave in all channels from seizure period\n",
    "window_size = 10\n",
    "sampling_freq = raw.info['sfreq']\n",
    "eeg_channel_indices = mne.pick_types(raw.info, meg=False, eeg=True)\n",
    "eeg_data, times = raw[eeg_channel_indices, :]\n",
    "print(eeg_data.shape)\n",
    "df = yasa.bandpower(eeg_data, sampling_freq, win_sec=window_size, bands=selected_bands, bandpass=True,\n",
    "                    ch_names=raw.info.ch_names, relative=True)\n",
    "\n",
    "# visualise with a heatmap\n",
    "channels = list(df.index)\n",
    "bands = list(df.iloc[:,0:5].columns)\n",
    "relative_bandpower = df.iloc[:,0:5].to_numpy()\n",
    "\n",
    "fig, ax = plt.subplots(figsize=(8,5))\n",
    "im = ax.imshow(relative_bandpower.T)\n",
    "ax.set_yticks(np.arange(len(bands)))\n",
    "ax.set_xticks(np.arange(len(channels)))\n",
    "ax.set_yticklabels(bands)\n",
    "ax.set_xticklabels(channels)\n",
    "\n",
    "# Rotate the tick labels and set their alignment.\n",
    "plt.setp(ax.get_xticklabels(), rotation=45, ha=\"right\", rotation_mode=\"anchor\")\n",
    "\n",
    "# loop over data dimensions and create text annotations\n",
    "for i in range(len(bands)):\n",
    "    for j in range(len(channels)):\n",
    "        text = ax.text(j, i, np.around(relative_bandpower[j, i], 2), ha='center', va='center', color='w')\n",
    "\n",
    "ax.set_title(f'Relative Bandpower in Seizure EEG - Window Size: {window_size}')\n",
    "fig.tight_layout()\n",
    "plt.show()"
   ]
  },
  {
   "cell_type": "markdown",
   "id": "1191563b",
   "metadata": {},
   "source": [
    "10s into seizure"
   ]
  },
  {
   "cell_type": "code",
   "execution_count": 57,
   "id": "5e38e576",
   "metadata": {
    "jupyter": {
     "source_hidden": true
    }
   },
   "outputs": [
    {
     "name": "stdout",
     "output_type": "stream",
     "text": [
      "1477 1487\n"
     ]
    },
    {
     "ename": "IndexError",
     "evalue": "list index out of range",
     "output_type": "error",
     "traceback": [
      "\u001b[0;31m---------------------------------------------------------------------------\u001b[0m",
      "\u001b[0;31mIndexError\u001b[0m                                Traceback (most recent call last)",
      "Cell \u001b[0;32mIn[57], line 4\u001b[0m\n\u001b[1;32m      2\u001b[0m start, end \u001b[38;5;241m=\u001b[39m \u001b[38;5;241m1467\u001b[39m\u001b[38;5;241m+\u001b[39m\u001b[38;5;241m10\u001b[39m, \u001b[38;5;241m1467\u001b[39m\u001b[38;5;241m+\u001b[39m\u001b[38;5;241m20\u001b[39m\n\u001b[1;32m      3\u001b[0m \u001b[38;5;28mprint\u001b[39m(start, end)\n\u001b[0;32m----> 4\u001b[0m raw \u001b[38;5;241m=\u001b[39m raw_clips[\u001b[38;5;241m3\u001b[39m]\u001b[38;5;241m.\u001b[39mcopy()\n\u001b[1;32m      5\u001b[0m raw\u001b[38;5;241m.\u001b[39mcrop(tmin\u001b[38;5;241m=\u001b[39mstart, tmax\u001b[38;5;241m=\u001b[39mend, include_tmax\u001b[38;5;241m=\u001b[39m\u001b[38;5;28;01mTrue\u001b[39;00m)\n\u001b[1;32m      6\u001b[0m raw\u001b[38;5;241m.\u001b[39mplot(\u001b[38;5;241m*\u001b[39m\u001b[38;5;241m*\u001b[39mplot_kwargs);\n",
      "\u001b[0;31mIndexError\u001b[0m: list index out of range"
     ]
    }
   ],
   "source": [
    "# crop 10s period from the start of the clip\n",
    "start, end = 1467+10, 1467+20\n",
    "print(start, end)\n",
    "raw = raw_clips[3].copy()\n",
    "raw.crop(tmin=start, tmax=end, include_tmax=True)\n",
    "raw.plot(**plot_kwargs);\n",
    "\n",
    "# determine the dominant brain wave in all channels from seizure period\n",
    "window_size = 10\n",
    "sampling_freq = raw.info['sfreq']\n",
    "eeg_channel_indices = mne.pick_types(raw.info, meg=False, eeg=True)\n",
    "eeg_data, times = raw[eeg_channel_indices, :]\n",
    "print(eeg_data.shape)\n",
    "df = yasa.bandpower(eeg_data, sampling_freq, win_sec=window_size, bands=selected_bands, bandpass=True,\n",
    "                    ch_names=raw.info.ch_names, relative=True)\n",
    "\n",
    "# visualise with a heatmap\n",
    "channels = list(df.index)\n",
    "bands = list(df.iloc[:,0:5].columns)\n",
    "relative_bandpower = df.iloc[:,0:5].to_numpy()\n",
    "\n",
    "fig, ax = plt.subplots(figsize=(8,5))\n",
    "im = ax.imshow(relative_bandpower.T)\n",
    "ax.set_yticks(np.arange(len(bands)))\n",
    "ax.set_xticks(np.arange(len(channels)))\n",
    "ax.set_yticklabels(bands)\n",
    "ax.set_xticklabels(channels)\n",
    "\n",
    "# Rotate the tick labels and set their alignment.\n",
    "plt.setp(ax.get_xticklabels(), rotation=45, ha=\"right\", rotation_mode=\"anchor\")\n",
    "\n",
    "# loop over data dimensions and create text annotations\n",
    "for i in range(len(bands)):\n",
    "    for j in range(len(channels)):\n",
    "        text = ax.text(j, i, np.around(relative_bandpower[j, i], 2), ha='center', va='center', color='w')\n",
    "\n",
    "ax.set_title(f'Relative Bandpower in Seizure EEG - Window Size: {window_size}')\n",
    "fig.tight_layout()\n",
    "plt.show()"
   ]
  },
  {
   "cell_type": "markdown",
   "id": "b99db635",
   "metadata": {},
   "source": [
    "10s before end of seizure."
   ]
  },
  {
   "cell_type": "code",
   "execution_count": 60,
   "id": "51558b3e",
   "metadata": {},
   "outputs": [
    {
     "name": "stdout",
     "output_type": "stream",
     "text": [
      "1480 1490\n"
     ]
    },
    {
     "ename": "IndexError",
     "evalue": "list index out of range",
     "output_type": "error",
     "traceback": [
      "\u001b[0;31m---------------------------------------------------------------------------\u001b[0m",
      "\u001b[0;31mIndexError\u001b[0m                                Traceback (most recent call last)",
      "Cell \u001b[0;32mIn[60], line 3\u001b[0m\n\u001b[1;32m      1\u001b[0m start, end \u001b[38;5;241m=\u001b[39m \u001b[38;5;241m1490\u001b[39m\u001b[38;5;241m-\u001b[39m\u001b[38;5;241m10\u001b[39m, \u001b[38;5;241m1490\u001b[39m\n\u001b[1;32m      2\u001b[0m \u001b[38;5;28mprint\u001b[39m(start, end)\n\u001b[0;32m----> 3\u001b[0m raw \u001b[38;5;241m=\u001b[39m raw_clips[\u001b[38;5;241m3\u001b[39m]\u001b[38;5;241m.\u001b[39mcopy()\n\u001b[1;32m      4\u001b[0m raw\u001b[38;5;241m.\u001b[39mcrop(tmin\u001b[38;5;241m=\u001b[39mstart, tmax\u001b[38;5;241m=\u001b[39mend, include_tmax\u001b[38;5;241m=\u001b[39m\u001b[38;5;28;01mTrue\u001b[39;00m)\n\u001b[1;32m      5\u001b[0m raw\u001b[38;5;241m.\u001b[39mplot(\u001b[38;5;241m*\u001b[39m\u001b[38;5;241m*\u001b[39mplot_kwargs);\n",
      "\u001b[0;31mIndexError\u001b[0m: list index out of range"
     ]
    }
   ],
   "source": [
    "start, end = 1490-10, 1490\n",
    "print(start, end)\n",
    "raw = raw_clips[3].copy()\n",
    "raw.crop(tmin=start, tmax=end, include_tmax=True)\n",
    "raw.plot(**plot_kwargs);\n",
    "\n",
    "# determine the dominant brain wave in all channels from seizure period\n",
    "window_size = 2\n",
    "sampling_freq = raw.info['sfreq']\n",
    "eeg_channel_indices = mne.pick_types(raw.info, meg=False, eeg=True)\n",
    "eeg_data, times = raw[eeg_channel_indices, :]\n",
    "print(eeg_data.shape)\n",
    "df = yasa.bandpower(eeg_data, sampling_freq, win_sec=window_size, bands=selected_bands, bandpass=True,\n",
    "                    ch_names=raw.info.ch_names, relative=True)\n",
    "\n",
    "# visualise with a heatmap\n",
    "channels = list(df.index)\n",
    "bands = list(df.iloc[:,0:5].columns)\n",
    "relative_bandpower = df.iloc[:,0:5].to_numpy()\n",
    "\n",
    "fig, ax = plt.subplots(figsize=(8,5))\n",
    "im = ax.imshow(relative_bandpower.T)\n",
    "ax.set_yticks(np.arange(len(bands)))\n",
    "ax.set_xticks(np.arange(len(channels)))\n",
    "ax.set_yticklabels(bands)\n",
    "ax.set_xticklabels(channels)\n",
    "\n",
    "# Rotate the tick labels and set their alignment.\n",
    "plt.setp(ax.get_xticklabels(), rotation=45, ha=\"right\", rotation_mode=\"anchor\")\n",
    "\n",
    "# loop over data dimensions and create text annotations\n",
    "for i in range(len(bands)):\n",
    "    for j in range(len(channels)):\n",
    "        text = ax.text(j, i, np.around(relative_bandpower[j, i], 2), ha='center', va='center', color='w')\n",
    "\n",
    "ax.set_title(f'Relative Bandpower in Seizure EEG - Window Size: {window_size}')\n",
    "fig.tight_layout()\n",
    "plt.show()"
   ]
  },
  {
   "cell_type": "code",
   "execution_count": 62,
   "id": "c8a2f8f3",
   "metadata": {
    "jupyter": {
     "source_hidden": true
    }
   },
   "outputs": [
    {
     "name": "stdout",
     "output_type": "stream",
     "text": [
      "1457 1467\n"
     ]
    },
    {
     "ename": "IndexError",
     "evalue": "list index out of range",
     "output_type": "error",
     "traceback": [
      "\u001b[0;31m---------------------------------------------------------------------------\u001b[0m",
      "\u001b[0;31mIndexError\u001b[0m                                Traceback (most recent call last)",
      "Cell \u001b[0;32mIn[62], line 4\u001b[0m\n\u001b[1;32m      2\u001b[0m start, end \u001b[38;5;241m=\u001b[39m \u001b[38;5;241m1467\u001b[39m\u001b[38;5;241m-\u001b[39m\u001b[38;5;241m10\u001b[39m, \u001b[38;5;241m1467\u001b[39m\n\u001b[1;32m      3\u001b[0m \u001b[38;5;28mprint\u001b[39m(start, end)\n\u001b[0;32m----> 4\u001b[0m raw \u001b[38;5;241m=\u001b[39m raw_clips[\u001b[38;5;241m3\u001b[39m]\u001b[38;5;241m.\u001b[39mcopy()\n\u001b[1;32m      5\u001b[0m raw\u001b[38;5;241m.\u001b[39mcrop(tmin\u001b[38;5;241m=\u001b[39mstart, tmax\u001b[38;5;241m=\u001b[39mend, include_tmax\u001b[38;5;241m=\u001b[39m\u001b[38;5;28;01mTrue\u001b[39;00m)\n\u001b[1;32m      6\u001b[0m raw\u001b[38;5;241m.\u001b[39mplot(\u001b[38;5;241m*\u001b[39m\u001b[38;5;241m*\u001b[39mplot_kwargs);\n",
      "\u001b[0;31mIndexError\u001b[0m: list index out of range"
     ]
    }
   ],
   "source": [
    "# crop 10s period before end of seizure\n",
    "start, end = 1467-10, 1467\n",
    "print(start, end)\n",
    "raw = raw_clips[3].copy()\n",
    "raw.crop(tmin=start, tmax=end, include_tmax=True)\n",
    "raw.plot(**plot_kwargs);\n",
    "\n",
    "# determine the dominant brain wave in all channels from seizure period\n",
    "window_size = 2\n",
    "sampling_freq = raw.info['sfreq']\n",
    "eeg_channel_indices = mne.pick_types(raw.info, meg=False, eeg=True)\n",
    "eeg_data, times = raw[eeg_channel_indices, :]\n",
    "print(eeg_data.shape)\n",
    "df = yasa.bandpower(eeg_data, sampling_freq, win_sec=window_size, bands=selected_bands, bandpass=True,\n",
    "                    ch_names=raw.info.ch_names, relative=True)\n",
    "\n",
    "# visualise with a heatmap\n",
    "channels = list(df.index)\n",
    "bands = list(df.iloc[:,0:5].columns)\n",
    "relative_bandpower = df.iloc[:,0:5].to_numpy()\n",
    "\n",
    "fig, ax = plt.subplots(figsize=(8,5))\n",
    "im = ax.imshow(relative_bandpower.T)\n",
    "ax.set_yticks(np.arange(len(bands)))\n",
    "ax.set_xticks(np.arange(len(channels)))\n",
    "ax.set_yticklabels(bands)\n",
    "ax.set_xticklabels(channels)\n",
    "\n",
    "# Rotate the tick labels and set their alignment.\n",
    "plt.setp(ax.get_xticklabels(), rotation=45, ha=\"right\", rotation_mode=\"anchor\")\n",
    "\n",
    "# loop over data dimensions and create text annotations\n",
    "for i in range(len(bands)):\n",
    "    for j in range(len(channels)):\n",
    "        text = ax.text(j, i, np.around(relative_bandpower[j, i], 2), ha='center', va='center', color='w')\n",
    "\n",
    "ax.set_title(f'Relative Bandpower in Seizure EEG - Window Size: {window_size}')\n",
    "fig.tight_layout()\n",
    "plt.show()"
   ]
  },
  {
   "cell_type": "code",
   "execution_count": null,
   "id": "9a0c34c0",
   "metadata": {},
   "outputs": [],
   "source": []
  },
  {
   "cell_type": "code",
   "execution_count": null,
   "id": "38916a1e",
   "metadata": {},
   "outputs": [],
   "source": []
  },
  {
   "cell_type": "code",
   "execution_count": null,
   "id": "f22eecbe",
   "metadata": {},
   "outputs": [],
   "source": [
    "fp1_fs = raw_clips[2].info['sfreq']\n",
    "fp1_sig, fp1_times = raw_clips[2][0, :]\n",
    "print(fp1_fs)\n",
    "print(fp1_sig.shape)\n",
    "print(fp1_times.shape)"
   ]
  },
  {
   "cell_type": "markdown",
   "id": "57e6b94f",
   "metadata": {},
   "source": [
    "## Spectrograms"
   ]
  },
  {
   "cell_type": "code",
   "execution_count": null,
   "id": "1316e8f6",
   "metadata": {},
   "outputs": [],
   "source": [
    "# file: chb_01_03 containing 1 seizure around 0.8 hrs\n",
    "fs = raw_clips[2].info['sfreq']\n",
    "for i in range(len(raw_clips[2].info['ch_names'])):\n",
    "    sig, _ = raw_clips[2][i,:]\n",
    "    fig = yasa.plot_spectrogram(sig.reshape(-1,), fs, fmin=0.1, fmax=127.9)\n",
    "    plt.title(f\"{raw_clips[2].info['ch_names'][i]}\")\n",
    "    fig.tight_layout()\n",
    "    plt.show()"
   ]
  },
  {
   "cell_type": "code",
   "execution_count": null,
   "id": "bd8f05e9",
   "metadata": {},
   "outputs": [],
   "source": [
    "# file: chb_01_04 containing 1 seizure\n",
    "fs = raw_clips[3].info['sfreq']\n",
    "for i in range(len(raw_clips[3].info['ch_names'])):\n",
    "    sig, _ = raw_clips[3][i,:]\n",
    "    fig = yasa.plot_spectrogram(sig.reshape(-1,), fs, fmin=0.1, fmax=127.9)\n",
    "    plt.title(f\"{raw_clips[2].info['ch_names'][i]}\")\n",
    "    fig.tight_layout()\n",
    "    plt.show()"
   ]
  },
  {
   "cell_type": "code",
   "execution_count": null,
   "id": "0e5b70e8",
   "metadata": {},
   "outputs": [],
   "source": [
    "# plot spectrogram for channel Fp1\n",
    "fig = yasa.plot_spectrogram(fp1_sig.reshape(-1,), fp1_fs, fmin=0.1, fmax=(fp1_fs/2)-1)\n",
    "fig.tight_layout()\n",
    "fig.show()"
   ]
  },
  {
   "cell_type": "code",
   "execution_count": null,
   "id": "119e577c",
   "metadata": {},
   "outputs": [],
   "source": [
    "# plot spectrogram for channel Fp1 (beta band)\n",
    "fig = yasa.plot_spectrogram(fp1_sig.reshape(-1,), fp1_fs, fmin=12, fmax=30)\n",
    "plt.title(r'$\\beta$: 12 - 30 Hz')\n",
    "fig.tight_layout()\n",
    "fig.show()"
   ]
  },
  {
   "cell_type": "markdown",
   "id": "5fdf662e",
   "metadata": {},
   "source": [
    "It was concluded that the optimum method to perform the real-time spectral estimation of beta band from MER signal is Welch with Hamming windows of 1.5 seconds and 50% overlap.\n",
    "\n",
    "https://www.hindawi.com/journals/cin/2017/1512504/"
   ]
  }
 ],
 "metadata": {
  "kernelspec": {
   "display_name": "Python [conda env:ENSAM-Rabat_Seizure_Prediction]",
   "language": "python",
   "name": "conda-env-ENSAM-Rabat_Seizure_Prediction-py"
  },
  "language_info": {
   "codemirror_mode": {
    "name": "ipython",
    "version": 3
   },
   "file_extension": ".py",
   "mimetype": "text/x-python",
   "name": "python",
   "nbconvert_exporter": "python",
   "pygments_lexer": "ipython3",
   "version": "3.11.8"
  }
 },
 "nbformat": 4,
 "nbformat_minor": 5
}
